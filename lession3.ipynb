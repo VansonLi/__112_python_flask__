{
 "cells": [
  {
   "cell_type": "code",
   "execution_count": 7,
   "metadata": {},
   "outputs": [
    {
     "name": "stdout",
     "output_type": "stream",
     "text": [
      "已經滿18\n",
      "可以考駕照\n"
     ]
    }
   ],
   "source": [
    "age = int(input(\"請輸入年齡\"))\n",
    "if age >= 18:\n",
    "    print(\"已經滿18\")\n",
    "    print(\"可以考駕照\")\n",
    "else:\n",
    "    print(\"未滿18\")\n",
    "    print(\"不能考駕照\")"
   ]
  },
  {
   "cell_type": "code",
   "execution_count": 34,
   "metadata": {},
   "outputs": [
    {
     "name": "stdout",
     "output_type": "stream",
     "text": [
      "40分,國文不合格\n",
      "30分,數學不合格\n",
      "退學，掰~\n"
     ]
    }
   ],
   "source": [
    "c = int(input('請輸入國文分數'))\n",
    "m = int(input('請輸入數學分數'))\n",
    "if c >60 and m>60:\n",
    "    print(\"{}分,國文合格\".format(c))\n",
    "    print(f\"{m}分,數學合格\")\n",
    "    print(\"不用補修\")\n",
    "elif c<60 and m>60:\n",
    "    print(\"{}分,國文不合格\".format(c))\n",
    "    print(f\"{m}分,數學合格\")\n",
    "    print(\"國文需補修\")\n",
    "elif c>60 and m<60:\n",
    "    print(\"{}分,國文合格\".format(c))\n",
    "    print(f\"{m}分,數學不合格\")\n",
    "    print(\"數學需補修\")\n",
    "else:\n",
    "    print(\"{}分,國文不合格\".format(c))\n",
    "    print(f\"{m}分,數學不合格\")\n",
    "    print(\"退學，掰~\")"
   ]
  }
 ],
 "metadata": {
  "kernelspec": {
   "display_name": "Python 3",
   "language": "python",
   "name": "python3"
  },
  "language_info": {
   "codemirror_mode": {
    "name": "ipython",
    "version": 3
   },
   "file_extension": ".py",
   "mimetype": "text/x-python",
   "name": "python",
   "nbconvert_exporter": "python",
   "pygments_lexer": "ipython3",
   "version": "3.9.16"
  },
  "orig_nbformat": 4
 },
 "nbformat": 4,
 "nbformat_minor": 2
}
